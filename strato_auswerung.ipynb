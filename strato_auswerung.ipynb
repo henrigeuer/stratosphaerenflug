{
  "nbformat": 4,
  "nbformat_minor": 0,
  "metadata": {
    "colab": {
      "provenance": [],
      "authorship_tag": "ABX9TyNGcJhEQoAr4FaREA8zOkKA",
      "include_colab_link": true
    },
    "kernelspec": {
      "name": "python3",
      "display_name": "Python 3"
    },
    "language_info": {
      "name": "python"
    }
  },
  "cells": [
    {
      "cell_type": "markdown",
      "metadata": {
        "id": "view-in-github",
        "colab_type": "text"
      },
      "source": [
        "<a href=\"https://colab.research.google.com/github/henrigeuer/stratosphaerenflug/blob/main/strato_auswerung.ipynb\" target=\"_parent\"><img src=\"https://colab.research.google.com/assets/colab-badge.svg\" alt=\"Open In Colab\"/></a>"
      ]
    },
    {
      "cell_type": "markdown",
      "source": [
        "\n",
        "#Datenauswerung mit Python\n",
        "Um zu beginnen, die einzelnen Codeabschnitte in ihrer Reihenfolge ausführen."
      ],
      "metadata": {
        "id": "7flXn4aA518c"
      }
    },
    {
      "cell_type": "markdown",
      "source": [
        "#Vorbereitung\n",
        "Bevor die Daten grafisch dargestellt werden können, müssen sie zunächst vorbereitet werden. Aktuell befinden sie sich noch in Form von zwei CSV-Dateien. Nach diesem Abschnitt sollen sie als einzelne Listen für jede Messreihe vorliegen."
      ],
      "metadata": {
        "id": "9sTQSFXsC-HZ"
      }
    },
    {
      "cell_type": "markdown",
      "source": [
        "##Importieren der benötigten Bibliotheken\n",
        "Die Bibliothek `matplotlib` soll verwendet werden, um die Daten darzustellen"
      ],
      "metadata": {
        "id": "S_6ckVhK6E5m"
      }
    },
    {
      "cell_type": "code",
      "execution_count": 1,
      "metadata": {
        "id": "SG9NHTAFqo-3"
      },
      "outputs": [],
      "source": [
        "import matplotlib.pyplot as plt"
      ]
    },
    {
      "cell_type": "markdown",
      "source": [
        "##Laden der Messwerte\n",
        "Die Rohdaten der Datenlogger befinden sich im Github Reposotory. Von dort werden sie nun, zunächst als String, geladen."
      ],
      "metadata": {
        "id": "JREW5NXg-OKQ"
      }
    },
    {
      "cell_type": "code",
      "source": [
        "#Laden des Github Repositories\n",
        "!git clone https://github.com/henrigeuer/stratosphaerenflug.git"
      ],
      "metadata": {
        "colab": {
          "base_uri": "https://localhost:8080/"
        },
        "id": "HUSPhwDX9A38",
        "outputId": "950d7459-6a92-4c29-d3dc-98be47de2123"
      },
      "execution_count": 2,
      "outputs": [
        {
          "output_type": "stream",
          "name": "stdout",
          "text": [
            "Cloning into 'stratosphaerenflug'...\n",
            "remote: Enumerating objects: 50, done.\u001b[K\n",
            "remote: Counting objects: 100% (50/50), done.\u001b[K\n",
            "remote: Compressing objects: 100% (47/47), done.\u001b[K\n",
            "remote: Total 50 (delta 19), reused 0 (delta 0), pack-reused 0\u001b[K\n",
            "Unpacking objects: 100% (50/50), done.\n"
          ]
        }
      ]
    },
    {
      "cell_type": "code",
      "source": [
        "#Speichern der Dateipfade\n",
        "path_arduino = \"/content/stratosphaerenflug/LOG.TXT\"\n",
        "path_strato = \"/content/stratosphaerenflug/F_24.LOG\"\n",
        "\n",
        "#Öffnen der Dateien\n",
        "file_arduino = open(path_arduino)\n",
        "file_strato = open(path_strato)\n",
        "\n",
        "#Zwischenpeichern der Daten\n",
        "data_arduino = file_arduino.read()\n",
        "data_strato = file_strato.read()\n",
        "\n",
        "#Schließen der Dateien\n",
        "file_arduino.close()\n",
        "file_strato.close()"
      ],
      "metadata": {
        "id": "CtweEyYZ85q_"
      },
      "execution_count": 3,
      "outputs": []
    },
    {
      "cell_type": "markdown",
      "source": [
        "## Vorbereiten der Messwerte\n",
        "Nun sollen alle gemessenen Daten in einzelne Listen gespeichert werden "
      ],
      "metadata": {
        "id": "gA019MCjEnrX"
      }
    },
    {
      "cell_type": "code",
      "source": [
        "#Daten des Arduino\n",
        "#Nach Zeilen trennen\n",
        "data_arduino_rows = data_arduino.split(\"\\n\")\n",
        "#Leere Zeilen entfernen\n",
        "while \"\" in data_arduino_rows:\n",
        "  data_arduino_rows.remove(\"\")\n",
        "#erste Zeile entfernen\n",
        "data_arduino_rows.pop(0)\n",
        "\n",
        "#Aufteilen jeder Zeile in einzelne Messwerte\n",
        "data_arduino_elements =[]\n",
        "for row in data_arduino_rows:\n",
        "  data_arduino_elements.append(row.split(\";\"))\n",
        "\n",
        "\n",
        "#Erstellen von Messwertspezifischen Listen\n",
        "ino_temp = []\n",
        "ino_hum = []\n",
        "ino_press =[]\n",
        "ino_tvoc= []\n",
        "ino_co2 = []\n",
        "ino_uv = []\n",
        "for row in data_arduino_elements:\n",
        "  ino_temp.append(float(row[0]))\n",
        "  ino_hum.append(float(row[1]))\n",
        "  ino_press.append(float(row[2])/100)\n",
        "  ino_tvoc.append(float(row[3]))\n",
        "  ino_co2.append(float(row[4]))\n",
        "  ino_uv.append(float(row[5]))\n"
      ],
      "metadata": {
        "id": "e0mHOzStFT41"
      },
      "execution_count": 4,
      "outputs": []
    },
    {
      "cell_type": "code",
      "source": [
        "#Daten des Strato3\n",
        "#Nach Zeilen trennen\n",
        "data_strato_rows = data_strato.split(\"\\n\")\n",
        "#Leere Zeilen entfernen\n",
        "while \"\" in data_strato_rows:\n",
        "  data_strato_rows.remove(\"\")\n",
        "\n",
        "#erste zwei Zeilen entfernen\n",
        "data_strato_rows.pop(0)\n",
        "data_strato_rows.pop(0)\n",
        "\n",
        "#Aufteilen jeder Zeile in einzelne Messwerte\n",
        "data_strato_elements =[]\n",
        "for row in data_strato_rows:\n",
        "  data_strato_elements.append(row.split(\";\"))\n",
        "\n",
        "#Erstellen von Messungsspezifischen listen\n",
        "strato_speed = []\n",
        "strato_course = []\n",
        "strato_altitude =[]\n",
        "strato_boardtemp= []\n",
        "strato_temp = []\n",
        "strato_hum = []\n",
        "strato_press = []\n",
        "strato_volt = []\n",
        "for row in data_strato_elements:\n",
        "  if row[9] ==\"NA\" or row[9] == \"\":\n",
        "    strato_speed.append(0)\n",
        "  else:\n",
        "    strato_speed.append(float(row[9]))\n",
        "\n",
        "  if row[10] ==\"NA\"or row[10] == \"\":\n",
        "    strato_course.append(0)\n",
        "  else:\n",
        "    strato_course.append(float(row[10]))\n",
        "\n",
        "  if row[11] ==\"NA\"or row[11] == \"\":\n",
        "    strato_altitude.append(0)\n",
        "  else:\n",
        "    strato_altitude.append(float(row[11]))\n",
        "\n",
        "  if row[12] ==\"NA\"or row[12] == \"\":\n",
        "    strato_boardtemp.append(0)\n",
        "  else:\n",
        "    strato_boardtemp.append(float(row[12]))\n",
        "\n",
        "  strato_temp.append(float(row[13]))\n",
        "  strato_hum.append(float(row[14]))\n",
        "  if row[15] ==\"Err\":\n",
        "    strato_press.append(0)\n",
        "  else:\n",
        "    strato_press.append(float(row[15]))\n",
        "\n",
        "    strato_volt.append(float(row[16]))\n",
        "\n",
        "#Zeitliste im Intervall 5sek erzeugen\n",
        "time = []\n",
        "i=0\n",
        "while len(time)<2734:\n",
        "  time.append(i)\n",
        "  i+=5"
      ],
      "metadata": {
        "id": "a8yTgAbRV6_p"
      },
      "execution_count": 5,
      "outputs": []
    },
    {
      "cell_type": "markdown",
      "source": [
        "## Steigrate berechnen\n",
        "\n",
        "Die Steigrate wurde zwar nicht direkt aufgezeichnet, sie kann aber aus der Flughöhe berechnet werden"
      ],
      "metadata": {
        "id": "MsAGqLDV2-eg"
      }
    },
    {
      "cell_type": "code",
      "source": [
        "strato_steigrate = [0]\n",
        "for k in range(1, len(strato_altitude)-1):\n",
        "  m = (strato_altitude[k+1]-strato_altitude[k])/2\n",
        "  strato_steigrate.append(m)\n",
        "\n",
        "steigtime = []\n",
        "i=0\n",
        "while len(steigtime)<len(strato_steigrate):\n",
        "  steigtime.append(i)\n",
        "  i+=2\n",
        "\n",
        "plt.plot(steigtime, strato_steigrate)\n",
        "plt.show()"
      ],
      "metadata": {
        "colab": {
          "base_uri": "https://localhost:8080/",
          "height": 265
        },
        "id": "ytwnIMlb285Z",
        "outputId": "139baf54-04dc-46d3-ed5f-3440cd8f2bcb"
      },
      "execution_count": 6,
      "outputs": [
        {
          "output_type": "display_data",
          "data": {
            "text/plain": [
              "<Figure size 432x288 with 1 Axes>"
            ],
            "image/png": "[encoded data removed]"
          },
          "metadata": {
            "needs_background": "light"
          }
        }
      ]
    },
    {
      "cell_type": "markdown",
      "source": [
        "#Funktionen\n",
        "Leider maßen beide Datenlogger in Unterschiedlichen Intervallen und für Unterschiedlich lange Zeiten. \n",
        "Um dieses Problem zu lösen benötigen wir noch zwei Funktion.\n",
        "Zum Einen eine Funktion `twotofive`, die aus Messdaten im 2 Sekunden Intervall eine Liste mit Daten im 5 Sekunden Intervall berechnet. Dazu wird jeder 5. Wert übernommen und dazwischen je ein Mittelwert gebildet.\n",
        "\n"
      ],
      "metadata": {
        "id": "AeRFROJh5Scb"
      }
    },
    {
      "cell_type": "code",
      "source": [
        "#Umrechnen in 5\n",
        "def twotofive(liste):\n",
        "  newlist= []\n",
        "  for i in range(0,len(liste)-4,5):\n",
        "    newlist.append(liste[i])\n",
        "    value = (liste[i+2]+liste[i+3])/2\n",
        "    newlist.append(value)\n",
        "  return newlist\n",
        "\n"
      ],
      "metadata": {
        "id": "ndVSetBJd7mJ"
      },
      "execution_count": 7,
      "outputs": []
    },
    {
      "cell_type": "markdown",
      "source": [
        "\n",
        "Außerdem wird eine Funktion `Liste_strecken` benötigt, die alle Listen  auf dieselbe Länge bringt, indem das erste und letzte Element vor- bzw. nach der Liste wiederholt wird. Der Parameter `faktor` gibt dabei an, in welchem Verhältnis die Anzahl der Elemente vor und nach der Liste stehen. Dadurch lassen sich die Messwerte entlang der x- Achse verschieben und somit die unterschiedlichen Start- und Endzeitpunkte ausgleichen.\n"
      ],
      "metadata": {
        "id": "5y1YZ9cfLdf0"
      }
    },
    {
      "cell_type": "code",
      "source": [
        "def liste_strecken(liste,faktor, refliste = time ):\n",
        "  dif = len(refliste) - len(liste)\n",
        "  pre = int(faktor*dif)\n",
        "  after = dif-pre\n",
        "  return [liste[0]]*(pre) +liste + [liste[-1]]*after"
      ],
      "metadata": {
        "id": "8GAXEGdx50hX"
      },
      "execution_count": 8,
      "outputs": []
    },
    {
      "cell_type": "markdown",
      "source": [
        "Einige der Messreihen enthalten noch Messfehler. Um diese zu bereinigen wird noch eine Funktion `clean` benötigt, die, wenn der Abstand zwischen zwei Punkten über einem Grenzwert `grenze` liegt, diesen Wert durch den Mittelwert des vorigen und folgenden Wertes ersetzt."
      ],
      "metadata": {
        "id": "Z5fEupzfLyaT"
      }
    },
    {
      "cell_type": "code",
      "source": [
        "def clean(liste, grenze ):\n",
        "  for i in range(1, len(liste)-1):\n",
        "    dif = abs(liste[i]-liste[i-1])\n",
        "    if dif> grenze:\n",
        "      avg = (liste[i-1]+liste[i+1])/2\n",
        "      liste[i] = avg\n",
        "  \n",
        "  return liste\n",
        "\n",
        "# Ausprobieren\n",
        "plt.rcParams[\"figure.figsize\"] = (10, 5)\n",
        "plt.subplot(1,2,1)\n",
        "plt.ylim(0, 1200)\n",
        "plt.title(\"Rohdaten\")\n",
        "plt.plot(time, twotofive(strato_press))\n",
        "\n",
        "plt.subplot(1,2,2)\n",
        "plt.ylim(0, 1200)\n",
        "plt.title(\"Bereinigt\")\n",
        "plt.plot(time, clean(twotofive(strato_press), 10))\n",
        "plt.show()"
      ],
      "metadata": {
        "id": "-F7zWLHoFpMn",
        "outputId": "fc980ce6-e6d7-4f0f-9fc4-f6acd291408c",
        "colab": {
          "base_uri": "https://localhost:8080/",
          "height": 336
        }
      },
      "execution_count": 9,
      "outputs": [
        {
          "output_type": "display_data",
          "data": {
            "text/plain": [
              "<Figure size 720x360 with 2 Axes>"
            ],
            "image/png": "[encoded data removed]"
          },
          "metadata": {
            "needs_background": "light"
          }
        }
      ]
    },
    {
      "cell_type": "markdown",
      "source": [
        "## Erste Graphen\n",
        "Nun sind alle Messwerte und Funktionen vorbereitet, die für das Darstellen der Messwerte benötigt werden.\n",
        "Beide Datenlogger haben den Luftdruck aufgezeichnet. Daher eignen sich diese Messwerte sehr gut, um den zeitlichen Versatz zwischen beiden Datenloggern einzustellen. Dazu muss nur der `faktor` der `liste_strecken`-Funktion so lange verändert werden, bis beide Graphen Deckungsgleich sind. `0.01`scheint ein passender Wert zu sein."
      ],
      "metadata": {
        "id": "PrPiUNfsBVo9"
      }
    },
    {
      "cell_type": "code",
      "source": [
        "plt.rcParams[\"figure.figsize\"] = (6.4,4.8)\n",
        "plt.plot(time, liste_strecken(ino_press, 0.01))\n",
        "plt.plot(time, clean(twotofive(strato_press),10),linestyle=\"--\")\n",
        "plt.show()"
      ],
      "metadata": {
        "colab": {
          "base_uri": "https://localhost:8080/",
          "height": 309
        },
        "id": "p3BDafxJMMYS",
        "outputId": "f6a759e9-40be-4771-df39-ab4919e48cb9"
      },
      "execution_count": 10,
      "outputs": [
        {
          "output_type": "display_data",
          "data": {
            "text/plain": [
              "<Figure size 460.8x345.6 with 1 Axes>"
            ],
            "image/png": "[encoded data removed]"
          },
          "metadata": {
            "needs_background": "light"
          }
        }
      ]
    },
    {
      "cell_type": "markdown",
      "source": [
        "Der gewonnene Wert `0.01` kann als Standardwert an die Funktion übergeben werden"
      ],
      "metadata": {
        "id": "Mfnj42CRGFVO"
      }
    },
    {
      "cell_type": "code",
      "source": [
        "def liste_strecken(liste,faktor = 0.01,refliste = time ):\n",
        "  dif = len(refliste) - len(liste)\n",
        "  pre = int(faktor*dif)\n",
        "  after = dif-pre\n",
        "  return [liste[0]]*(pre) +liste + [liste[-1]]*after\n"
      ],
      "metadata": {
        "id": "4WTorHF_GBK5"
      },
      "execution_count": 11,
      "outputs": []
    },
    {
      "cell_type": "markdown",
      "source": [
        "## Platzhöhe/Zeitpunkt berechnen"
      ],
      "metadata": {
        "id": "I-V7bLVJPqMy"
      }
    },
    {
      "cell_type": "code",
      "source": [
        "\n",
        "platzhoehe = max(twotofive(strato_altitude))\n",
        "platzele = twotofive(strato_altitude).index(platzhoehe)\n",
        "platztime = platzele*5\n",
        "\n",
        "plt.plot(time, twotofive(strato_altitude))\n",
        "#Punkt einzeichnen\n",
        "plt.scatter(platztime, platzhoehe, color = \"orange\")\n",
        "plt.show()"
      ],
      "metadata": {
        "id": "5LjvLRg8K4f5",
        "outputId": "a7937eb4-8579-46d3-8783-6a16082af1cb",
        "colab": {
          "base_uri": "https://localhost:8080/",
          "height": 309
        }
      },
      "execution_count": 12,
      "outputs": [
        {
          "output_type": "display_data",
          "data": {
            "text/plain": [
              "<Figure size 460.8x345.6 with 1 Axes>"
            ],
            "image/png": "[encoded data removed]"
          },
          "metadata": {
            "needs_background": "light"
          }
        }
      ]
    },
    {
      "cell_type": "markdown",
      "source": [
        "#Darstellung\n",
        "Nun kann mit der grafischen Darstellung begonnen werden.\n",
        "Folgende Messreihen stehen dabei zur Verfügung:\n",
        "*   Zeit in s-> `time`\n",
        "*   Außentemperatur(Arduino) in °C -> `ino_temp`\n",
        "*   Außentemperatur(Strato3) in °C -> `strato_temp`\n",
        "*   Innentemperatur(Strato3) in °C -> `strat_boardtemp`\n",
        "*   Luftfeuchtigkeit(Arduino) in % -> `ino_hum`\n",
        "*   Luftfeuchtigkeit(Strato3) in % -> `strato_hum`\n",
        "*   Luftdruck(Arduino) in hP -> `ino_press`\n",
        "*   Luftdruck(Strato3) in hP -> `strato_press`\n",
        "*   TVOC-Wert(Arduino) -> `ino_tvoc`\n",
        "*   CO2-Gehalt(Arduino) -> `ino_co2`\n",
        "*   UV-Strahlung(Arduino) -> `ino_uv`\n",
        "*   Geschwindigkeit(Strato3) in km/h -> `strato_speed`\n",
        "*   Course over Ground(Strato3) -> `strato_course` (siehe: https://www.segeln-lernen.de/segellexikon-kurs-ueber-grund.html)\n",
        "*   Flughöhe(Strato3) in m -> `strato_altitud`\n",
        "*   Batteriespannung(Strato3) in V -> `strato_volt`\n",
        "*   Steigrate(berechnet aus Strato3) in m/s -> `strato_steigrate`\n"
      ],
      "metadata": {
        "id": "sxGnLzQIDa8c"
      }
    },
    {
      "cell_type": "markdown",
      "source": [
        "Beispielhafter Aufbau"
      ],
      "metadata": {
        "id": "RSsH13yIVd5f"
      }
    },
    {
      "cell_type": "code",
      "source": [
        "#Maße des Diagrammes\n",
        "plt.rcParams[\"figure.figsize\"] = (12,7)\n",
        "\n",
        "#Diagrammtitel\n",
        "plt.title(\"Höhe-Temperatur-Diagramm\")\n",
        "\n",
        "#Werte laden \n",
        "x = twotofive(strato_altitude)[:platzele]\n",
        "y = twotofive(strato_temp)[:platzele]\n",
        "\n",
        "#Achsenbeschriftung\n",
        "plt.ylabel(\"Temperatur in °C\")\n",
        "plt.xlabel(\"Höhe in m\")\n",
        "\n",
        "#Wertebereich\n",
        "plt.xlim(0, max(x)+100)\n",
        "plt.ylim(min(y)-5, max(y)+5)\n",
        "\n",
        "#Plot erstellen\n",
        "plt.plot(x,y, color =\"b\", label = \"Graph 1\", linewidth=2, linestyle=\"-\")\n",
        "\n",
        "#Legende anlegen\n",
        "plt.legend(loc= 0)\n",
        "\n",
        "\n",
        "\n",
        "plt.show()\n"
      ],
      "metadata": {
        "id": "zwVY4vA0P8Nm",
        "outputId": "a6cb0083-842b-4355-be2f-3fe4773b26b2",
        "colab": {
          "base_uri": "https://localhost:8080/",
          "height": 458
        }
      },
      "execution_count": 14,
      "outputs": [
        {
          "output_type": "display_data",
          "data": {
            "text/plain": [
              "<Figure size 864x504 with 1 Axes>"
            ],
            "image/png": "[encoded data removed]"
          },
          "metadata": {
            "needs_background": "light"
          }
        }
      ]
    }
  ]
}