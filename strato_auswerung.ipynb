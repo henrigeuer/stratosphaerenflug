{
  "nbformat": 4,
  "nbformat_minor": 0,
  "metadata": {
    "colab": {
      "provenance": [],
      "authorship_tag": "ABX9TyNAxYwagmQDsIxX14k+v2Zc",
      "include_colab_link": true
    },
    "kernelspec": {
      "name": "python3",
      "display_name": "Python 3"
    },
    "language_info": {
      "name": "python"
    }
  },
  "cells": [
    {
      "cell_type": "markdown",
      "metadata": {
        "id": "view-in-github",
        "colab_type": "text"
      },
      "source": [
        "<a href=\"https://colab.research.google.com/github/henrigeuer/stratosphaerenflug/blob/main/strato_auswerung.ipynb\" target=\"_parent\"><img src=\"https://colab.research.google.com/assets/colab-badge.svg\" alt=\"Open In Colab\"/></a>"
      ]
    },
    {
      "cell_type": "markdown",
      "source": [
        "#Datenauswerung mit Python\n",
        "Um zu beginnen, die einzelnen Codeabschnitte in ihrer Reihenfolge ausführen.\n",
        "\n"
      ],
      "metadata": {
        "id": "7flXn4aA518c"
      }
    },
    {
      "cell_type": "markdown",
      "source": [
        "##Importieren der benötigten Bibliotheken\n",
        "Die Bibliothek `matplotlib` soll verwendet werden, um die Daten darzustellen"
      ],
      "metadata": {
        "id": "S_6ckVhK6E5m"
      }
    },
    {
      "cell_type": "code",
      "execution_count": 264,
      "metadata": {
        "id": "SG9NHTAFqo-3"
      },
      "outputs": [],
      "source": [
        "import matplotlib.pyplot as plt\n"
      ]
    },
    {
      "cell_type": "markdown",
      "source": [
        "##Laden der Messwerte\n",
        "Die Rohdaten der Datenlogger befinden sich im Github Reposotory. Von dort werden sie nun, zunächst als String, geladen."
      ],
      "metadata": {
        "id": "JREW5NXg-OKQ"
      }
    },
    {
      "cell_type": "code",
      "source": [
        "#Laden des Github Repositories\n",
        "!git clone https://github.com/henrigeuer/stratosphaerenflug.git"
      ],
      "metadata": {
        "colab": {
          "base_uri": "https://localhost:8080/"
        },
        "id": "HUSPhwDX9A38",
        "outputId": "e3f26b94-b8c5-4e8f-8d8d-a4a462cbe14d"
      },
      "execution_count": null,
      "outputs": [
        {
          "output_type": "stream",
          "name": "stdout",
          "text": [
            "fatal: destination path 'stratosphaerenflug' already exists and is not an empty directory.\n"
          ]
        }
      ]
    },
    {
      "cell_type": "code",
      "source": [
        "#Speichern der Dateipfade\n",
        "path_arduino = \"/content/stratosphaerenflug/LOG.TXT\"\n",
        "path_strato = \"/content/stratosphaerenflug/F_24.LOG\"\n",
        "\n",
        "#Öffnen der Dateien\n",
        "file_arduino = open(path_arduino)\n",
        "file_strato = open(path_strato)\n",
        "\n",
        "#Zwischenpeichern der Daten\n",
        "data_arduino = file_arduino.read()\n",
        "data_strato = file_strato.read()\n",
        "\n",
        "#Schließen der Dateien\n",
        "file_arduino.close()\n",
        "file_strato.close()"
      ],
      "metadata": {
        "id": "CtweEyYZ85q_"
      },
      "execution_count": null,
      "outputs": []
    },
    {
      "cell_type": "markdown",
      "source": [
        "## Vorbereiten der Messwerte\n",
        "Um die Daten grafisch darstellen zu können, müssen sie nun weiter Verarbeitet werden. Dafür sollen alle gemessenen Daten in einzelne Listen gespeichert werden "
      ],
      "metadata": {
        "id": "gA019MCjEnrX"
      }
    },
    {
      "cell_type": "code",
      "source": [
        "#Daten des Arduino\n",
        "#Nach Zeilen trennen\n",
        "data_arduino_rows = data_arduino.split(\"\\n\")\n",
        "#Leere Zeilen entfernen\n",
        "while \"\" in data_arduino_rows:\n",
        "  data_arduino_rows.remove(\"\")\n",
        "#erste Zeile entfernen\n",
        "data_arduino_rows.pop(0)\n",
        "\n",
        "#Aufteilen jeder Zeile in einzelne Messwerte\n",
        "data_arduino_elements =[]\n",
        "for row in data_arduino_rows:\n",
        "  data_arduino_elements.append(row.split(\";\"))\n",
        "\n",
        "\n",
        "#Erstellen von Messwertspezifischen Listen\n",
        "ino_temp = []\n",
        "ino_hum = []\n",
        "ino_press =[]\n",
        "ino_tvoc= []\n",
        "ino_co2 = []\n",
        "ino_uv = []\n",
        "for row in data_arduino_elements:\n",
        "  ino_temp.append(float(row[0]))\n",
        "  ino_hum.append(float(row[1]))\n",
        "  ino_press.append(float(row[2])/100)\n",
        "  ino_tvoc.append(float(row[3]))\n",
        "  ino_co2.append(float(row[4]))\n",
        "  ino_uv.append(float(row[5]))\n"
      ],
      "metadata": {
        "id": "e0mHOzStFT41"
      },
      "execution_count": null,
      "outputs": []
    },
    {
      "cell_type": "code",
      "source": [
        "#Daten des Strato3\n",
        "#Nach Zeilen trennen\n",
        "data_strato_rows = data_strato.split(\"\\n\")\n",
        "#Leere Zeilen entfernen\n",
        "while \"\" in data_strato_rows:\n",
        "  data_strato_rows.remove(\"\")\n",
        "\n",
        "#erste zwei Zeilen entfernen\n",
        "data_strato_rows.pop(0)\n",
        "data_strato_rows.pop(0)\n",
        "\n",
        "#Aufteilen jeder Zeile in einzelne Messwerte\n",
        "data_strato_elements =[]\n",
        "for row in data_strato_rows:\n",
        "  data_strato_elements.append(row.split(\";\"))\n",
        "\n",
        "#Erstellen von Messungsspezifischen listen\n",
        "strato_speed = []\n",
        "strato_course = []\n",
        "strato_altitude =[]\n",
        "strato_boardtemp= []\n",
        "strato_temp = []\n",
        "strato_hum = []\n",
        "strato_press = []\n",
        "strato_volt = []\n",
        "for row in data_strato_elements:\n",
        "  if row[9] ==\"NA\" or row[9] == \"\":\n",
        "    strato_speed.append(0)\n",
        "  else:\n",
        "    strato_speed.append(float(row[9]))\n",
        "\n",
        "  if row[10] ==\"NA\"or row[10] == \"\":\n",
        "    strato_course.append(0)\n",
        "  else:\n",
        "    strato_course.append(float(row[10]))\n",
        "\n",
        "  if row[11] ==\"NA\"or row[11] == \"\":\n",
        "    strato_altitude.append(0)\n",
        "  else:\n",
        "    strato_altitude.append(float(row[11]))\n",
        "\n",
        "  if row[12] ==\"NA\"or row[12] == \"\":\n",
        "    strato_boardtemp.append(0)\n",
        "  else:\n",
        "    strato_boardtemp.append(float(row[12]))\n",
        "\n",
        "  strato_temp.append(float(row[13]))\n",
        "  strato_hum.append(float(row[14]))\n",
        "  if row[15] ==\"Err\":\n",
        "    strato_press.append(0)\n",
        "  else:\n",
        "    strato_press.append(float(row[15]))\n",
        "\n",
        "    strato_volt.append(float(row[16]))\n",
        "\n",
        "#Zeitliste im Intervall 5sek erzeugen\n",
        "time = []\n",
        "i=0\n",
        "while len(time)<2734:\n",
        "  time.append(i)\n",
        "  i+=5"
      ],
      "metadata": {
        "id": "a8yTgAbRV6_p"
      },
      "execution_count": 265,
      "outputs": []
    },
    {
      "cell_type": "markdown",
      "source": [
        "##Funktionen\n",
        "Leider maßen beide Datenlogger in Unterschiedlichen Intervallen und für Unterschiedlich lange Zeiten. \n",
        "Um dieses Problem zu lösen benötigen wir noch zwei Funktion.\n",
        "Zum Einen eine Funktion `twotofive`, die aus Messdaten im 2 Sekunden Intervall eine Liste mit Daten im 5 Sekunden Intervall berechnet. Dazu wird jeder 5. Wert übernommen und dazwischen je ein Mittelwert gebildet.\n",
        "\n",
        "Außerdem brauchen wir eine Funktion `Liste_strecken`, die alle Listen  auf dieselbe Länge bringt, indem das erste und letzte Element vor- bzw. nach der Liste wiederholt wird. Der Parameter `faktor` gibt dabei an, in welchem Verhältnis die Anzahl der Elemente vor und nach der Liste stehen. Dadurch lassen sich die Messwerte entlang der x- Achse verschieben und somit die unterschiedlichen Start- und Endzeitpunkte ausgleichen.\n",
        "\n"
      ],
      "metadata": {
        "id": "AeRFROJh5Scb"
      }
    },
    {
      "cell_type": "code",
      "source": [
        "#Umrechnen in 5\n",
        "def twotofive(liste):\n",
        "  newlist= []\n",
        "  for i in range(0,len(liste)-4,5):\n",
        "    newlist.append(liste[i])\n",
        "    value = (liste[i+2]+liste[i+3])/2\n",
        "    newlist.append(value)\n",
        "  return newlist\n",
        "\n",
        "def liste_strecken(liste,faktor = 0.5,refliste = time ):\n",
        "  dif = len(refliste) - len(liste)\n",
        "  pre = int(faktor*dif)\n",
        "  after = dif-pre\n",
        "  return [liste[0]]*(pre) +liste + [liste[-1]]*after\n",
        "\n"
      ],
      "metadata": {
        "id": "ndVSetBJd7mJ"
      },
      "execution_count": 263,
      "outputs": []
    },
    {
      "cell_type": "markdown",
      "source": [
        "## Erste Graphen\n",
        "Nun sind alle Messwerte und Funktionen vorbereitet, die für das Darstellen der Messwerte benötigt werden.\n",
        "Beide Datenlogger haben den Luftdruck aufgezeichnet. Daher eignen sich diese Messwerte sehr gut, um den zeitlichen Versatz zwischen beiden Datenloggern einzustellen. Dazu muss nur der `faktor` so lange verändert werden, bis beide Graphen Deckungsgleich sind. `0.01`scheint ein passender Wert zu sein."
      ],
      "metadata": {
        "id": "PrPiUNfsBVo9"
      }
    },
    {
      "cell_type": "code",
      "source": [
        "plt.plot(time, liste_strecken(ino_press, 0.01))\n",
        "plt.plot(time, twotofive(strato_press))\n",
        "plt.show()"
      ],
      "metadata": {
        "colab": {
          "base_uri": "https://localhost:8080/",
          "height": 320
        },
        "id": "p3BDafxJMMYS",
        "outputId": "dc6577bd-d023-4b5b-9715-60c8da4cf04e"
      },
      "execution_count": 266,
      "outputs": [
        {
          "output_type": "display_data",
          "data": {
            "text/plain": [
              "<Figure size 1440x360 with 1 Axes>"
            ],
            "image/png": "[encoded data removed]"
          },
          "metadata": {
            "needs_background": "light"
          }
        }
      ]
    }
  ]
}