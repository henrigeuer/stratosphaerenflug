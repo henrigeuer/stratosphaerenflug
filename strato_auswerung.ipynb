{
  "nbformat": 4,
  "nbformat_minor": 0,
  "metadata": {
    "colab": {
      "provenance": [],
      "authorship_tag": "ABX9TyMS/Fg6OuWhbxmHEvG6sCFm",
      "include_colab_link": true
    },
    "kernelspec": {
      "name": "python3",
      "display_name": "Python 3"
    },
    "language_info": {
      "name": "python"
    }
  },
  "cells": [
    {
      "cell_type": "markdown",
      "metadata": {
        "id": "view-in-github",
        "colab_type": "text"
      },
      "source": [
        "<a href=\"https://colab.research.google.com/github/henrigeuer/stratosphaerenflug/blob/main/strato_auswerung.ipynb\" target=\"_parent\"><img src=\"https://colab.research.google.com/assets/colab-badge.svg\" alt=\"Open In Colab\"/></a>"
      ]
    },
    {
      "cell_type": "markdown",
      "source": [
        "#Datenauswerung mit Python\n",
        "Um zu beginnen, die einzelnen Codeabschnitte in ihrer Reihenfolge ausführen."
      ],
      "metadata": {
        "id": "7flXn4aA518c"
      }
    },
    {
      "cell_type": "markdown",
      "source": [
        "##Importieren der benötigten Bibliotheken"
      ],
      "metadata": {
        "id": "S_6ckVhK6E5m"
      }
    },
    {
      "cell_type": "code",
      "execution_count": 5,
      "metadata": {
        "id": "SG9NHTAFqo-3"
      },
      "outputs": [],
      "source": [
        "import numpy as np\n",
        "import matplotlib.pyplot as plt"
      ]
    },
    {
      "cell_type": "markdown",
      "source": [
        "##Laden der Messwerte aus Github"
      ],
      "metadata": {
        "id": "JREW5NXg-OKQ"
      }
    },
    {
      "cell_type": "code",
      "source": [
        "!git clone https://github.com/henrigeuer/stratosphaerenflug.git                 #Laden des Github Repositories \n",
        "\n",
        "data_arduino = \"/content/stratosphaerenflug/LOG.TXT\"                            #Speichern der einzelnen Pfade der Dateien\n",
        "data_strato4 = \"/content/stratosphaerenflug/F_24.LOG\""
      ],
      "metadata": {
        "id": "CtweEyYZ85q_",
        "outputId": "df74ac7d-684c-40a9-a271-b5c5fbde6a55",
        "colab": {
          "base_uri": "https://localhost:8080/"
        }
      },
      "execution_count": 12,
      "outputs": [
        {
          "output_type": "stream",
          "name": "stdout",
          "text": [
            "fatal: destination path 'stratosphaerenflug' already exists and is not an empty directory.\n"
          ]
        }
      ]
    },
    {
      "cell_type": "code",
      "source": [],
      "metadata": {
        "id": "HUSPhwDX9A38"
      },
      "execution_count": null,
      "outputs": []
    }
  ]
}