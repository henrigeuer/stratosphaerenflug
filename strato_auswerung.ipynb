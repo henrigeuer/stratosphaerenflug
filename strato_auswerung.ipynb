{
  "nbformat": 4,
  "nbformat_minor": 0,
  "metadata": {
    "colab": {
      "provenance": [],
      "authorship_tag": "ABX9TyN8CG3T0QpEENhvsitoqhDA",
      "include_colab_link": true
    },
    "kernelspec": {
      "name": "python3",
      "display_name": "Python 3"
    },
    "language_info": {
      "name": "python"
    }
  },
  "cells": [
    {
      "cell_type": "markdown",
      "metadata": {
        "id": "view-in-github",
        "colab_type": "text"
      },
      "source": [
        "<a href=\"https://colab.research.google.com/github/henrigeuer/stratosphaerenflug/blob/main/strato_auswerung.ipynb\" target=\"_parent\"><img src=\"https://colab.research.google.com/assets/colab-badge.svg\" alt=\"Open In Colab\"/></a>"
      ]
    },
    {
      "cell_type": "markdown",
      "source": [
        "#Datenauswerung mit Python\n",
        "Um zu beginnen, die einzelnen Codeabschnitte in ihrer Reihenfolge ausführen.\n",
        "\n"
      ],
      "metadata": {
        "id": "7flXn4aA518c"
      }
    },
    {
      "cell_type": "markdown",
      "source": [
        "##Importieren der benötigten Bibliotheken\n",
        "Die Bibliotheken numpy und mathplotlib dollrn verwendet werden, um die Daten darzustellen"
      ],
      "metadata": {
        "id": "S_6ckVhK6E5m"
      }
    },
    {
      "cell_type": "code",
      "execution_count": 127,
      "metadata": {
        "id": "SG9NHTAFqo-3"
      },
      "outputs": [],
      "source": [
        "import numpy as np\n",
        "import matplotlib.pyplot as plt\n",
        "import random"
      ]
    },
    {
      "cell_type": "markdown",
      "source": [
        "##Laden der Messwerte aus Github\n",
        "Bevor wir mit den Daten arbeiten können, müssen wir sie zunächst erstmal laden.\n",
        "Die Rohdaten befinden sich ebenfalls im Github Reposotory. Von dort werden sie nun, zunächst als String, geladen."
      ],
      "metadata": {
        "id": "JREW5NXg-OKQ"
      }
    },
    {
      "cell_type": "code",
      "source": [
        "#Laden des Github Repositories\n",
        "!git clone https://github.com/henrigeuer/stratosphaerenflug.git"
      ],
      "metadata": {
        "colab": {
          "base_uri": "https://localhost:8080/"
        },
        "id": "HUSPhwDX9A38",
        "outputId": "e3f26b94-b8c5-4e8f-8d8d-a4a462cbe14d"
      },
      "execution_count": 19,
      "outputs": [
        {
          "output_type": "stream",
          "name": "stdout",
          "text": [
            "fatal: destination path 'stratosphaerenflug' already exists and is not an empty directory.\n"
          ]
        }
      ]
    },
    {
      "cell_type": "code",
      "source": [
        "#Speichern der Dateipfade\n",
        "path_arduino = \"/content/stratosphaerenflug/LOG.TXT\"\n",
        "path_strato = \"/content/stratosphaerenflug/F_24.LOG\"\n",
        "\n",
        "#Öffnen der Dateien\n",
        "file_arduino = open(path_arduino)\n",
        "file_strato = open(path_strato)\n",
        "\n",
        "#Zwischenpeichern der Daten\n",
        "data_arduino = file_arduino.read()\n",
        "data_strato = file_strato.read()\n",
        "\n",
        "#Schließen der Dateien\n",
        "file_arduino.close()\n",
        "file_strato.close()"
      ],
      "metadata": {
        "id": "CtweEyYZ85q_"
      },
      "execution_count": 99,
      "outputs": []
    },
    {
      "cell_type": "markdown",
      "source": [
        "## Vorbereiten der Messwerte\n",
        "Um die Daten grafisch darstellen zu können, müssen wir sie nun weiter Verarbeiten. Dabei sollen alle gemessenen Daten in einzelne Listen gespeichert werden "
      ],
      "metadata": {
        "id": "gA019MCjEnrX"
      }
    },
    {
      "cell_type": "code",
      "source": [
        "#Daten des Arduino\n",
        "#Nach Zeilen trennen\n",
        "data_arduino_rows = data_arduino.split(\"\\n\")\n",
        "#Leere Zeilen entfernen\n",
        "while \"\" in data_arduino_rows:\n",
        "  data_arduino_rows.remove(\"\")\n",
        "#erste Zeile entfernen\n",
        "data_arduino_rows.pop(0)\n",
        "\n",
        "#Aufteilen jeder Zeile in einzelne Messwerte\n",
        "data_arduino_elements =[]\n",
        "for row in data_arduino_rows:\n",
        "  data_arduino_elements.append(row.split(\";\"))\n",
        "\n",
        "\n",
        "#Erstellen von Messwertspezifischen Listen\n",
        "ino_temp = []\n",
        "ino_hum = []\n",
        "ino_press =[]\n",
        "ino_tvoc= []\n",
        "ino_co2 = []\n",
        "ino_uv = []\n",
        "for row in data_arduino_elements:\n",
        "  ino_temp.append(float(row[0]))\n",
        "  ino_hum.append(float(row[1]))\n",
        "  ino_press.append(float(row[2]))\n",
        "  ino_tvoc.append(float(row[3]))\n",
        "  ino_co2.append(float(row[4]))\n",
        "  ino_uv.append(float(row[5]))\n",
        "\n",
        "#Zeitliste im Intervall 5sek erzeugen\n",
        "time = []\n",
        "i=0\n",
        "while len(time)<len(ino_temp):\n",
        "  time.append(i)\n",
        "  i+=5\n",
        "\n"
      ],
      "metadata": {
        "id": "e0mHOzStFT41"
      },
      "execution_count": 181,
      "outputs": []
    },
    {
      "cell_type": "code",
      "source": [
        "#Daten des Strato3\n",
        "#Nach Zeilen trennen\n",
        "data_strato_rows = data_strato.split(\"\\n\")\n",
        "#Leere Zeilen entfernen\n",
        "while \"\" in data_strato_rows:\n",
        "  data_strato_rows.remove(\"\")\n",
        "\n",
        "#erste zwei Zeilen entfernen\n",
        "data_strato_rows.pop(0)\n",
        "data_strato_rows.pop(0)\n",
        "\n",
        "#Aufteilen jeder Zeile in einzelne Messwerte\n",
        "data_strato_elements =[]\n",
        "for row in data_strato_rows:\n",
        "  data_strato_elements.append(row.split(\";\"))\n",
        "\n",
        "##;Up-Time;UTC;Date;RMC Valid;Sats in use;Latitude;Longitude;Speed over Ground [knots];Speed over Ground [km/h];Course over Ground;Altitude NN [m];Board: Temp [C];Extern: Temp [C];Extern: Hum [perc];Extern: Press [hPa];Batt Voltage [V];Logger Status\n",
        "#Erstellen von Messungsspezifischen listen\n",
        "strato_speed = []\n",
        "strato_course = []\n",
        "strato_altitude =[]\n",
        "strato_boardtemp= []\n",
        "strato_temp = []\n",
        "strato_hum = []\n",
        "strato_press = []\n",
        "strato_volt = []\n",
        "for row in data_strato_elements:\n",
        "  if row[9] ==\"NA\" or row[9] == \"\":\n",
        "    strato_speed.append(0)\n",
        "  else:\n",
        "    strato_speed.append(float(row[9]))\n",
        "\n",
        "  if row[10] ==\"NA\"or row[10] == \"\":\n",
        "    strato_course.append(0)\n",
        "  else:\n",
        "    strato_course.append(float(row[10]))\n",
        "\n",
        "  if row[11] ==\"NA\"or row[11] == \"\":\n",
        "    strato_altitude.append(0)\n",
        "  else:\n",
        "    strato_altitude.append(float(row[11]))\n",
        "\n",
        "  if row[12] ==\"NA\"or row[12] == \"\":\n",
        "    strato_boardtemp.append(0)\n",
        "  else:\n",
        "    strato_boardtemp.append(float(row[12]))\n",
        "\n",
        "  strato_temp.append(float(row[13]))\n",
        "  strato_hum.append(float(row[14]))\n",
        "  if row[15] ==\"Err\":\n",
        "    strato_press.append(0)\n",
        "  else:\n",
        "    strato_press.append(float(row[15]))\n",
        "\n",
        "    strato_volt.append(float(row[16]))\n"
      ],
      "metadata": {
        "id": "a8yTgAbRV6_p"
      },
      "execution_count": 200,
      "outputs": []
    },
    {
      "cell_type": "code",
      "source": [
        "#Umrechnen in 5\n",
        "def twotofive(liste):\n",
        "  newlist= []\n",
        "  for i in range(0,len(liste)-4,5):\n",
        "    newlist.append(liste[i])\n",
        "    value = (liste[i+2]+liste[i+3])/2\n",
        "    newlist.append(value)\n",
        "  return newlist\n",
        "\n",
        "\n",
        "test = twotofive(strato_temp)\n",
        "#Zeitliste im Intervall 5sek erzeugen\n",
        "time = []\n",
        "i=0\n",
        "while len(time)<len(test):\n",
        "  time.append(i)\n",
        "  i+=5"
      ],
      "metadata": {
        "id": "ndVSetBJd7mJ"
      },
      "execution_count": 201,
      "outputs": []
    },
    {
      "cell_type": "markdown",
      "source": [],
      "metadata": {
        "id": "PrPiUNfsBVo9"
      }
    },
    {
      "cell_type": "code",
      "source": [
        "def plot_yx(y, x= time):\n",
        "  plt.xlim(min(x), max(x))\n",
        "  plt.ylim(min(y)-5, max(y)+5)\n",
        "  plt.plot(x, y)\n",
        "\n",
        "def liste_strecken(liste,faktor = 0.5,refliste = time ):\n",
        "  dif = len(refliste) - len(liste)\n",
        "  pre = int(faktor*dif)\n",
        "  after = dif-pre\n",
        "  print(pre, after)\n",
        "  return [0]*(pre) +liste + [0]*after\n",
        "\n",
        "plt.xlim(0, max(time))\n",
        "plt.ylim(-60,20)\n",
        "plt.plot(time, liste_strecken(ino_temp, 0.01))\n",
        "plt.plot(time, twotofive(strato_temp))\n",
        "plt.show()"
      ],
      "metadata": {
        "colab": {
          "base_uri": "https://localhost:8080/",
          "height": 287
        },
        "id": "p3BDafxJMMYS",
        "outputId": "395d6f11-a5c7-4560-e476-1ec10ef21eb1"
      },
      "execution_count": 217,
      "outputs": [
        {
          "output_type": "stream",
          "name": "stdout",
          "text": [
            "8 796\n"
          ]
        },
        {
          "output_type": "display_data",
          "data": {
            "text/plain": [
              "<Figure size 432x288 with 1 Axes>"
            ],
            "image/png": "[encoded data removed]"
          },
          "metadata": {
            "needs_background": "light"
          }
        }
      ]
    }
  ]
}