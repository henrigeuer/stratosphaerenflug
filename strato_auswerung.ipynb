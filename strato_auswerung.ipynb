{
  "nbformat": 4,
  "nbformat_minor": 0,
  "metadata": {
    "colab": {
      "provenance": [],
      "authorship_tag": "ABX9TyM7rjk2ZChDae4qV+6r6fGb",
      "include_colab_link": true
    },
    "kernelspec": {
      "name": "python3",
      "display_name": "Python 3"
    },
    "language_info": {
      "name": "python"
    }
  },
  "cells": [
    {
      "cell_type": "markdown",
      "metadata": {
        "id": "view-in-github",
        "colab_type": "text"
      },
      "source": [
        "<a href=\"https://colab.research.google.com/github/henrigeuer/stratosphaerenflug/blob/main/strato_auswerung.ipynb\" target=\"_parent\"><img src=\"https://colab.research.google.com/assets/colab-badge.svg\" alt=\"Open In Colab\"/></a>"
      ]
    },
    {
      "cell_type": "markdown",
      "source": [
        "\n",
        "#Datenauswerung mit Python\n",
        "Um zu beginnen, die einzelnen Codeabschnitte in ihrer Reihenfolge ausführen."
      ],
      "metadata": {
        "id": "7flXn4aA518c"
      }
    },
    {
      "cell_type": "markdown",
      "source": [
        "#Vorbereitung\n",
        "Bevor die Daten grafisch dargestellt werden können, müssen sie zunächst vorbereitet werden. Aktuell befinden sie sich noch in Form von zwei CSV-Dateien. Nach diesem Abschnitt sollen sie als einzelne Listen für jede Messreihe vorliegen."
      ],
      "metadata": {
        "id": "9sTQSFXsC-HZ"
      }
    },
    {
      "cell_type": "markdown",
      "source": [
        "##Importieren der benötigten Bibliotheken\n",
        "Die Bibliothek `matplotlib` soll verwendet werden, um die Daten darzustellen"
      ],
      "metadata": {
        "id": "S_6ckVhK6E5m"
      }
    },
    {
      "cell_type": "code",
      "execution_count": 2,
      "metadata": {
        "id": "SG9NHTAFqo-3"
      },
      "outputs": [],
      "source": [
        "import matplotlib.pyplot as plt\n"
      ]
    },
    {
      "cell_type": "markdown",
      "source": [
        "##Laden der Messwerte\n",
        "Die Rohdaten der Datenlogger befinden sich im Github Reposotory. Von dort werden sie nun, zunächst als String, geladen."
      ],
      "metadata": {
        "id": "JREW5NXg-OKQ"
      }
    },
    {
      "cell_type": "code",
      "source": [
        "#Laden des Github Repositories\n",
        "!git clone https://github.com/henrigeuer/stratosphaerenflug.git"
      ],
      "metadata": {
        "colab": {
          "base_uri": "https://localhost:8080/"
        },
        "id": "HUSPhwDX9A38",
        "outputId": "d6259eb9-69f6-452e-cf4d-f76b0c500639"
      },
      "execution_count": 3,
      "outputs": [
        {
          "output_type": "stream",
          "name": "stdout",
          "text": [
            "Cloning into 'stratosphaerenflug'...\n",
            "remote: Enumerating objects: 41, done.\u001b[K\n",
            "remote: Counting objects: 100% (41/41), done.\u001b[K\n",
            "remote: Compressing objects: 100% (38/38), done.\u001b[K\n",
            "remote: Total 41 (delta 15), reused 0 (delta 0), pack-reused 0\u001b[K\n",
            "Unpacking objects: 100% (41/41), done.\n"
          ]
        }
      ]
    },
    {
      "cell_type": "code",
      "source": [
        "#Speichern der Dateipfade\n",
        "path_arduino = \"/content/stratosphaerenflug/LOG.TXT\"\n",
        "path_strato = \"/content/stratosphaerenflug/F_24.LOG\"\n",
        "\n",
        "#Öffnen der Dateien\n",
        "file_arduino = open(path_arduino)\n",
        "file_strato = open(path_strato)\n",
        "\n",
        "#Zwischenpeichern der Daten\n",
        "data_arduino = file_arduino.read()\n",
        "data_strato = file_strato.read()\n",
        "\n",
        "#Schließen der Dateien\n",
        "file_arduino.close()\n",
        "file_strato.close()"
      ],
      "metadata": {
        "id": "CtweEyYZ85q_"
      },
      "execution_count": 4,
      "outputs": []
    },
    {
      "cell_type": "markdown",
      "source": [
        "## Vorbereiten der Messwerte\n",
        "Nun sollen alle gemessenen Daten in einzelne Listen gespeichert werden "
      ],
      "metadata": {
        "id": "gA019MCjEnrX"
      }
    },
    {
      "cell_type": "code",
      "source": [
        "#Daten des Arduino\n",
        "#Nach Zeilen trennen\n",
        "data_arduino_rows = data_arduino.split(\"\\n\")\n",
        "#Leere Zeilen entfernen\n",
        "while \"\" in data_arduino_rows:\n",
        "  data_arduino_rows.remove(\"\")\n",
        "#erste Zeile entfernen\n",
        "data_arduino_rows.pop(0)\n",
        "\n",
        "#Aufteilen jeder Zeile in einzelne Messwerte\n",
        "data_arduino_elements =[]\n",
        "for row in data_arduino_rows:\n",
        "  data_arduino_elements.append(row.split(\";\"))\n",
        "\n",
        "\n",
        "#Erstellen von Messwertspezifischen Listen\n",
        "ino_temp = []\n",
        "ino_hum = []\n",
        "ino_press =[]\n",
        "ino_tvoc= []\n",
        "ino_co2 = []\n",
        "ino_uv = []\n",
        "for row in data_arduino_elements:\n",
        "  ino_temp.append(float(row[0]))\n",
        "  ino_hum.append(float(row[1]))\n",
        "  ino_press.append(float(row[2])/100)\n",
        "  ino_tvoc.append(float(row[3]))\n",
        "  ino_co2.append(float(row[4]))\n",
        "  ino_uv.append(float(row[5]))\n"
      ],
      "metadata": {
        "id": "e0mHOzStFT41"
      },
      "execution_count": 5,
      "outputs": []
    },
    {
      "cell_type": "code",
      "source": [
        "#Daten des Strato3\n",
        "#Nach Zeilen trennen\n",
        "data_strato_rows = data_strato.split(\"\\n\")\n",
        "#Leere Zeilen entfernen\n",
        "while \"\" in data_strato_rows:\n",
        "  data_strato_rows.remove(\"\")\n",
        "\n",
        "#erste zwei Zeilen entfernen\n",
        "data_strato_rows.pop(0)\n",
        "data_strato_rows.pop(0)\n",
        "\n",
        "#Aufteilen jeder Zeile in einzelne Messwerte\n",
        "data_strato_elements =[]\n",
        "for row in data_strato_rows:\n",
        "  data_strato_elements.append(row.split(\";\"))\n",
        "\n",
        "#Erstellen von Messungsspezifischen listen\n",
        "strato_speed = []\n",
        "strato_course = []\n",
        "strato_altitude =[]\n",
        "strato_boardtemp= []\n",
        "strato_temp = []\n",
        "strato_hum = []\n",
        "strato_press = []\n",
        "strato_volt = []\n",
        "for row in data_strato_elements:\n",
        "  if row[9] ==\"NA\" or row[9] == \"\":\n",
        "    strato_speed.append(0)\n",
        "  else:\n",
        "    strato_speed.append(float(row[9]))\n",
        "\n",
        "  if row[10] ==\"NA\"or row[10] == \"\":\n",
        "    strato_course.append(0)\n",
        "  else:\n",
        "    strato_course.append(float(row[10]))\n",
        "\n",
        "  if row[11] ==\"NA\"or row[11] == \"\":\n",
        "    strato_altitude.append(0)\n",
        "  else:\n",
        "    strato_altitude.append(float(row[11]))\n",
        "\n",
        "  if row[12] ==\"NA\"or row[12] == \"\":\n",
        "    strato_boardtemp.append(0)\n",
        "  else:\n",
        "    strato_boardtemp.append(float(row[12]))\n",
        "\n",
        "  strato_temp.append(float(row[13]))\n",
        "  strato_hum.append(float(row[14]))\n",
        "  if row[15] ==\"Err\":\n",
        "    strato_press.append(0)\n",
        "  else:\n",
        "    strato_press.append(float(row[15]))\n",
        "\n",
        "    strato_volt.append(float(row[16]))\n",
        "\n",
        "#Zeitliste im Intervall 5sek erzeugen\n",
        "time = []\n",
        "i=0\n",
        "while len(time)<2734:\n",
        "  time.append(i)\n",
        "  i+=5"
      ],
      "metadata": {
        "id": "a8yTgAbRV6_p"
      },
      "execution_count": 28,
      "outputs": []
    },
    {
      "cell_type": "markdown",
      "source": [
        "##Funktionen\n",
        "Leider maßen beide Datenlogger in Unterschiedlichen Intervallen und für Unterschiedlich lange Zeiten. \n",
        "Um dieses Problem zu lösen benötigen wir noch zwei Funktion.\n",
        "Zum Einen eine Funktion `twotofive`, die aus Messdaten im 2 Sekunden Intervall eine Liste mit Daten im 5 Sekunden Intervall berechnet. Dazu wird jeder 5. Wert übernommen und dazwischen je ein Mittelwert gebildet.\n",
        "\n",
        "Außerdem brauchen wir eine Funktion `Liste_strecken`, die alle Listen  auf dieselbe Länge bringt, indem das erste und letzte Element vor- bzw. nach der Liste wiederholt wird. Der Parameter `faktor` gibt dabei an, in welchem Verhältnis die Anzahl der Elemente vor und nach der Liste stehen. Dadurch lassen sich die Messwerte entlang der x- Achse verschieben und somit die unterschiedlichen Start- und Endzeitpunkte ausgleichen.\n",
        "\n"
      ],
      "metadata": {
        "id": "AeRFROJh5Scb"
      }
    },
    {
      "cell_type": "code",
      "source": [
        "#Umrechnen in 5\n",
        "def twotofive(liste):\n",
        "  newlist= []\n",
        "  for i in range(0,len(liste)-4,5):\n",
        "    newlist.append(liste[i])\n",
        "    value = (liste[i+2]+liste[i+3])/2\n",
        "    newlist.append(value)\n",
        "  return newlist\n",
        "\n",
        "def liste_strecken(liste,faktor, refliste = time ):\n",
        "  dif = len(refliste) - len(liste)\n",
        "  pre = int(faktor*dif)\n",
        "  after = dif-pre\n",
        "  return [liste[0]]*(pre) +liste + [liste[-1]]*after\n",
        "\n"
      ],
      "metadata": {
        "id": "ndVSetBJd7mJ"
      },
      "execution_count": 7,
      "outputs": []
    },
    {
      "cell_type": "markdown",
      "source": [
        "## Erste Graphen\n",
        "Nun sind alle Messwerte und Funktionen vorbereitet, die für das Darstellen der Messwerte benötigt werden.\n",
        "Beide Datenlogger haben den Luftdruck aufgezeichnet. Daher eignen sich diese Messwerte sehr gut, um den zeitlichen Versatz zwischen beiden Datenloggern einzustellen. Dazu muss nur der `faktor` so lange verändert werden, bis beide Graphen Deckungsgleich sind. `0.01`scheint ein passender Wert zu sein."
      ],
      "metadata": {
        "id": "PrPiUNfsBVo9"
      }
    },
    {
      "cell_type": "code",
      "source": [
        "plt.plot(time, liste_strecken(ino_press, 0.01))\n",
        "plt.plot(time, twotofive(strato_press),linestyle=\"--\")\n",
        "plt.show()"
      ],
      "metadata": {
        "colab": {
          "base_uri": "https://localhost:8080/",
          "height": 265
        },
        "id": "p3BDafxJMMYS",
        "outputId": "19565eb6-335a-4d0e-ec13-e474d6542ba3"
      },
      "execution_count": 37,
      "outputs": [
        {
          "output_type": "display_data",
          "data": {
            "text/plain": [
              "<Figure size 432x288 with 1 Axes>"
            ],
            "image/png": "[encoded data removed]"
          },
          "metadata": {
            "needs_background": "light"
          }
        }
      ]
    },
    {
      "cell_type": "markdown",
      "source": [
        "Der gewonnene Wert `0.01` kann als Standardwert an die Funktion übergeben werden"
      ],
      "metadata": {
        "id": "Mfnj42CRGFVO"
      }
    },
    {
      "cell_type": "code",
      "source": [
        "def liste_strecken(liste,faktor = 0.01,refliste = time ):\n",
        "  dif = len(refliste) - len(liste)\n",
        "  pre = int(faktor*dif)\n",
        "  after = dif-pre\n",
        "  return [liste[0]]*(pre) +liste + [liste[-1]]*after\n"
      ],
      "metadata": {
        "id": "4WTorHF_GBK5"
      },
      "execution_count": 14,
      "outputs": []
    },
    {
      "cell_type": "markdown",
      "source": [
        "#Darstellung\n",
        "Nun kann mit der grafischen Darstellung begonnen werden.\n",
        "Folgende Messreihen stehen dabei zur Verfügung:\n",
        "*   Zeit in s-> `time`\n",
        "*   Außentemperatur(Arduino) in °C -> `ino_temp`\n",
        "*   Außentemperatur(Strato3) in °C -> `strato_temp`\n",
        "*   Innentemperatur(Strato3) in °C -> `strat_boardtemp`\n",
        "*   Luftfeuchtigkeit(Arduino) in % -> `ino_hum`\n",
        "*   Luftfeuchtigkeit(Strato3) in % -> `strato_hum`\n",
        "*   Luftdruck(Arduino) in hP -> `ino_press`\n",
        "*   Luftdruck(Strato3) in hP -> `strato_press`\n",
        "*   TVOC-Wert(Arduino) -> `ino_tvoc`\n",
        "*   CO2-Gehalt(Arduino) -> `ino_co2`\n",
        "*   UV-Strahlung(Arduino) -> `ino_uv`\n",
        "*   Geschwindigkeit(Strato3) in km/h -> `strato_speed`\n",
        "*   Course over Ground(Strato3) -> `strato_course` (siehe: https://www.segeln-lernen.de/segellexikon-kurs-ueber-grund.html)\n",
        "*   Flughöhe(Strato3) in m -> `strato_altitud`\n",
        "*   Batteriespannung(Strato3) in V -> `strato_volt`"
      ],
      "metadata": {
        "id": "sxGnLzQIDa8c"
      }
    },
    {
      "cell_type": "code",
      "source": [
        "#Intervall x\n",
        "plt.plot(time, twotofive(strato_speed))\n",
        "plt.plot(time, twotofive(strato_course), color= \"orange\", alpha = 0.5)\n",
        "plt.show()\n",
        "plt.plot(strato_speed, strato_course)"
      ],
      "metadata": {
        "id": "tPCIJUFKER0w",
        "outputId": "5fe3566b-bdd8-4a37-d77a-32a70ed5f91d",
        "colab": {
          "base_uri": "https://localhost:8080/",
          "height": 531
        }
      },
      "execution_count": 39,
      "outputs": [
        {
          "output_type": "display_data",
          "data": {
            "text/plain": [
              "<Figure size 432x288 with 1 Axes>"
            ],
            "image/png": "[encoded data removed]"
          },
          "metadata": {
            "needs_background": "light"
          }
        },
        {
          "output_type": "execute_result",
          "data": {
            "text/plain": [
              "[<matplotlib.lines.Line2D at 0x7f14dad7bc90>]"
            ]
          },
          "metadata": {},
          "execution_count": 39
        },
        {
          "output_type": "display_data",
          "data": {
            "text/plain": [
              "<Figure size 432x288 with 1 Axes>"
            ],
            "image/png": "[encoded data removed]"
          },
          "metadata": {
            "needs_background": "light"
          }
        }
      ]
    }
  ]
}